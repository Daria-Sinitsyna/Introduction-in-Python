{
  "nbformat": 4,
  "nbformat_minor": 0,
  "metadata": {
    "colab": {
      "provenance": [],
      "authorship_tag": "ABX9TyOd8YFa7lRY3YB4EdTm9pvC",
      "include_colab_link": true
    },
    "kernelspec": {
      "name": "python3",
      "display_name": "Python 3"
    },
    "language_info": {
      "name": "python"
    }
  },
  "cells": [
    {
      "cell_type": "markdown",
      "metadata": {
        "id": "view-in-github",
        "colab_type": "text"
      },
      "source": [
        "<a href=\"https://colab.research.google.com/github/Daria-Sinitsyna/Introduction-in-Python/blob/main/Homework_lesson10.ipynb\" target=\"_parent\"><img src=\"https://colab.research.google.com/assets/colab-badge.svg\" alt=\"Open In Colab\"/></a>"
      ]
    },
    {
      "cell_type": "code",
      "execution_count": 19,
      "metadata": {
        "colab": {
          "base_uri": "https://localhost:8080/"
        },
        "id": "2a-oaq8ZY7Ro",
        "outputId": "775032bc-acaf-4f09-efb8-6b238f89df51"
      },
      "outputs": [
        {
          "output_type": "stream",
          "name": "stdout",
          "text": [
            "['robot', 'human', 'human', 'human', 'human', 'human', 'robot', 'human', 'robot', 'human', 'robot', 'robot', 'robot', 'robot', 'human', 'robot', 'robot', 'human', 'robot', 'human']\n",
            "[1, 0, 0, 0, 0, 0, 1, 0, 1, 0, 1, 1, 1, 1, 0, 1, 1, 0, 1, 0]\n",
            "[0, 1, 1, 1, 1, 1, 0, 1, 0, 1, 0, 0, 0, 0, 1, 0, 0, 1, 0, 1]\n",
            "    robot  human\n",
            "0       1      0\n",
            "1       0      1\n",
            "2       0      1\n",
            "3       0      1\n",
            "4       0      1\n",
            "5       0      1\n",
            "6       1      0\n",
            "7       0      1\n",
            "8       1      0\n",
            "9       0      1\n",
            "10      1      0\n",
            "11      1      0\n",
            "12      1      0\n",
            "13      1      0\n",
            "14      0      1\n",
            "15      1      0\n",
            "16      1      0\n",
            "17      0      1\n",
            "18      1      0\n",
            "19      0      1\n"
          ]
        }
      ],
      "source": [
        "import pandas as pd\n",
        "\n",
        "def convert_to_robot(word):\n",
        "  if word == 'robot':\n",
        "    return 1\n",
        "  else:\n",
        "    return 0\n",
        "\n",
        "def convert_to_human(word):\n",
        "  if word == 'human':\n",
        "    return 1\n",
        "  else:\n",
        "    return 0\n",
        "\n",
        "import random\n",
        "lst = ['robot'] * 10\n",
        "lst += ['human'] * 10\n",
        "random.shuffle(lst)\n",
        "print(lst)\n",
        "\n",
        "data = pd.DataFrame({'whoAmI':lst})\n",
        "data.head(20)\n",
        "\n",
        "numbers_robot = list(map(convert_to_robot, lst))\n",
        "print(numbers_robot)\n",
        "\n",
        "numbers_human = list(map(convert_to_human, lst))\n",
        "print(numbers_human)\n",
        "\n",
        "one_hot_view = pd.DataFrame({'robot': numbers_robot, 'human': numbers_human})\n",
        "print(one_hot_view)\n"
      ]
    },
    {
      "cell_type": "code",
      "source": [],
      "metadata": {
        "id": "QIaq6GSIb8P_"
      },
      "execution_count": null,
      "outputs": []
    },
    {
      "cell_type": "code",
      "source": [],
      "metadata": {
        "id": "MUdpEp-1b77C"
      },
      "execution_count": null,
      "outputs": []
    }
  ]
}